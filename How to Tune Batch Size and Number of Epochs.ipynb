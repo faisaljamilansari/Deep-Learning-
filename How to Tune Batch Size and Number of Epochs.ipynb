{
  "nbformat": 4,
  "nbformat_minor": 0,
  "metadata": {
    "colab": {
      "name": "Untitled0.ipynb",
      "provenance": [],
      "authorship_tag": "ABX9TyMcQfJ4fPVlc5FTyfbooq2A",
      "include_colab_link": true
    },
    "kernelspec": {
      "name": "python3",
      "display_name": "Python 3"
    }
  },
  "cells": [
    {
      "cell_type": "markdown",
      "metadata": {
        "id": "view-in-github",
        "colab_type": "text"
      },
      "source": [
        "<a href=\"https://colab.research.google.com/github/faisaljamilansari/Deep-Learning-/blob/main/How%20to%20Tune%20Batch%20Size%20and%20Number%20of%20Epochs.ipynb\" target=\"_parent\"><img src=\"https://colab.research.google.com/assets/colab-badge.svg\" alt=\"Open In Colab\"/></a>"
      ]
    },
    {
      "cell_type": "code",
      "metadata": {
        "id": "Luz9eR5g4p-d",
        "outputId": "f51907da-2a2a-4339-f9db-ff267482a956",
        "colab": {
          "base_uri": "https://localhost:8080/"
        }
      },
      "source": [
        "# Use scikit-learn to grid search the batch size and epochs\n",
        "import numpy\n",
        "\n",
        "from sklearn.model_selection import GridSearchCV\n",
        "from keras.models import Sequential\n",
        "from keras.layers import Dense\n",
        "from keras.wrappers.scikit_learn import KerasClassifier\n",
        "\n",
        "# Function to create model, required for KerasClassifier\n",
        "def create_model():\n",
        "\t# create model\n",
        "\tmodel = Sequential()\n",
        "\tmodel.add(Dense(12, input_dim=8, activation='relu'))\n",
        "\tmodel.add(Dense(1, activation='sigmoid'))\n",
        "\t# Compile model\n",
        "\tmodel.compile(loss='binary_crossentropy', optimizer='adam', metrics=['accuracy'])\n",
        "\treturn model\n",
        "# fix random seed for reproducibility\n",
        "seed = 7\n",
        "numpy.random.seed(seed)\n",
        "# load dataset\n",
        "dataset = numpy.loadtxt(\"https://raw.githubusercontent.com/faisaljamilansari/Deep-Learning-/main/Patient%20Vitals.csv\", delimiter=\",\")\n",
        "# split into input (X) and output (Y) variables\n",
        "\n",
        "X = dataset[:,0:8]\n",
        "Y = dataset[:,8]\n",
        "# create model\n",
        "model = KerasClassifier(build_fn=create_model, verbose=0)\n",
        "# define the grid search parameters\n",
        "batch_size = [20, 30, 40, 60, 80, 150]\n",
        "epochs = [20, 70, 120]\n",
        "param_grid = dict(batch_size=batch_size, epochs=epochs)\n",
        "grid = GridSearchCV(estimator=model, param_grid=param_grid, n_jobs=-1, cv=3)\n",
        "grid_result = grid.fit(X, Y)\n",
        "# summarize results\n",
        "print(\"Best: %f using %s\" % (grid_result.best_score_, grid_result.best_params_))\n",
        "means = grid_result.cv_results_['mean_test_score']\n",
        "stds = grid_result.cv_results_['std_test_score']\n",
        "params = grid_result.cv_results_['params']\n",
        "for mean, stdev, param in zip(means, stds, params):\n",
        "    print(\"%f (%f) with: %r\" % (mean, stdev, param))\n"
      ],
      "execution_count": 11,
      "outputs": [
        {
          "output_type": "stream",
          "text": [
            "Best: 0.690104 using {'batch_size': 20, 'epochs': 120}\n",
            "0.600260 (0.031948) with: {'batch_size': 20, 'epochs': 20}\n",
            "0.675781 (0.012758) with: {'batch_size': 20, 'epochs': 70}\n",
            "0.690104 (0.022402) with: {'batch_size': 20, 'epochs': 120}\n",
            "0.618490 (0.061955) with: {'batch_size': 30, 'epochs': 20}\n",
            "0.640625 (0.012758) with: {'batch_size': 30, 'epochs': 70}\n",
            "0.662760 (0.051855) with: {'batch_size': 30, 'epochs': 120}\n",
            "0.593750 (0.033603) with: {'batch_size': 40, 'epochs': 20}\n",
            "0.647135 (0.009744) with: {'batch_size': 40, 'epochs': 70}\n",
            "0.684896 (0.028587) with: {'batch_size': 40, 'epochs': 120}\n",
            "0.562500 (0.030425) with: {'batch_size': 60, 'epochs': 20}\n",
            "0.670573 (0.022402) with: {'batch_size': 60, 'epochs': 70}\n",
            "0.671875 (0.022326) with: {'batch_size': 60, 'epochs': 120}\n",
            "0.597656 (0.024080) with: {'batch_size': 80, 'epochs': 20}\n",
            "0.648438 (0.020915) with: {'batch_size': 80, 'epochs': 70}\n",
            "0.638021 (0.042473) with: {'batch_size': 80, 'epochs': 120}\n",
            "0.557292 (0.066470) with: {'batch_size': 150, 'epochs': 20}\n",
            "0.553385 (0.045143) with: {'batch_size': 150, 'epochs': 70}\n",
            "0.626302 (0.035132) with: {'batch_size': 150, 'epochs': 120}\n"
          ],
          "name": "stdout"
        }
      ]
    },
    {
      "cell_type": "code",
      "metadata": {
        "id": "YNfS7yhUO1xe"
      },
      "source": [
        ""
      ],
      "execution_count": null,
      "outputs": []
    },
    {
      "cell_type": "code",
      "metadata": {
        "id": "T6jXuJvDO1_F"
      },
      "source": [
        ""
      ],
      "execution_count": 1,
      "outputs": []
    }
  ]
}